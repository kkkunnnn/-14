{
  "nbformat": 4,
  "nbformat_minor": 0,
  "metadata": {
    "colab": {
      "provenance": [],
      "include_colab_link": true
    },
    "kernelspec": {
      "name": "python3",
      "display_name": "Python 3"
    },
    "language_info": {
      "name": "python"
    }
  },
  "cells": [
    {
      "cell_type": "markdown",
      "metadata": {
        "id": "view-in-github",
        "colab_type": "text"
      },
      "source": [
        "<a href=\"https://colab.research.google.com/github/kkkunnnn/-14/blob/main/Python%E4%BD%9C%E6%A5%AD_%E7%AC%AC11%E7%B5%84(%E4%B8%8D%E7%A2%BA%E5%AE%9A%E7%AC%AC%E5%B9%BE)_jpynb.ipynb\" target=\"_parent\"><img src=\"https://colab.research.google.com/assets/colab-badge.svg\" alt=\"Open In Colab\"/></a>"
      ]
    },
    {
      "cell_type": "markdown",
      "source": [
        "##411352478楊詠鈞\n",
        "##411352545張旭坤"
      ],
      "metadata": {
        "id": "Akra3dMnaVPG"
      }
    },
    {
      "cell_type": "code",
      "execution_count": null,
      "metadata": {
        "colab": {
          "base_uri": "https://localhost:8080/"
        },
        "id": "Azt5DkgKaigA",
        "outputId": "1f630b4b-0862-4086-fcd6-6715e1480cd2"
      },
      "outputs": [
        {
          "output_type": "stream",
          "name": "stdout",
          "text": [
            "['W', 'W', 'W', 'W', 'W', 'W', 'W', 'W', 'W', 'W', 'W', 'W', 'W', 'W', 'W', 'W', 'W', 'W', 'W', 'W', 'W', 'W', 'W', 'W', 'W', 'W', 'W', 'W', 'W', 'W', 'W', 'W', 'W', 'W', 'W', 'R', 'R', 'R', 'R', 'R', 'R', 'R', 'R', 'R', 'R', 'R', 'R', 'R', 'R', 'R', 'R', 'R', 'R', 'R', 'R', 'R', 'R', 'R', 'R', 'R', 'R', 'R', 'R', 'R', 'R', 'R', 'R', 'R', 'R', 'R', 'R', 'R', 'R', 'R', 'R', 'R', 'R', 'R', 'R', 'R', 'R', 'R', 'R', 'R', 'R', 'R', 'R', 'R', 'R', 'R', 'R', 'R', 'R', 'R', 'R', 'R', 'R', 'R', 'R', 'R']\n"
          ]
        }
      ],
      "source": [
        "#1-1\n",
        "list1=[\"W\"]*35+[\"R\"]*65\n",
        "print(list1)"
      ]
    },
    {
      "cell_type": "code",
      "source": [
        "#1-2\n",
        "import numpy as np\n",
        "list1=[\"W\"]*35+[\"R\"]*65\n",
        "draw=list(np.random.choice(list1,5,replace=True))\n",
        "print(\"list1：\\n\",list1)\n",
        "draw.count(\"W\")"
      ],
      "metadata": {
        "colab": {
          "base_uri": "https://localhost:8080/"
        },
        "id": "cxC7wHc8akdc",
        "outputId": "e0160885-2c34-4c69-a865-7506f6f0b337"
      },
      "execution_count": null,
      "outputs": [
        {
          "output_type": "stream",
          "name": "stdout",
          "text": [
            "list1：\n",
            " ['W', 'W', 'W', 'W', 'W', 'W', 'W', 'W', 'W', 'W', 'W', 'W', 'W', 'W', 'W', 'W', 'W', 'W', 'W', 'W', 'W', 'W', 'W', 'W', 'W', 'W', 'W', 'W', 'W', 'W', 'W', 'W', 'W', 'W', 'W', 'R', 'R', 'R', 'R', 'R', 'R', 'R', 'R', 'R', 'R', 'R', 'R', 'R', 'R', 'R', 'R', 'R', 'R', 'R', 'R', 'R', 'R', 'R', 'R', 'R', 'R', 'R', 'R', 'R', 'R', 'R', 'R', 'R', 'R', 'R', 'R', 'R', 'R', 'R', 'R', 'R', 'R', 'R', 'R', 'R', 'R', 'R', 'R', 'R', 'R', 'R', 'R', 'R', 'R', 'R', 'R', 'R', 'R', 'R', 'R', 'R', 'R', 'R', 'R', 'R']\n"
          ]
        },
        {
          "output_type": "execute_result",
          "data": {
            "text/plain": [
              "2"
            ]
          },
          "metadata": {},
          "execution_count": 2
        }
      ]
    },
    {
      "cell_type": "code",
      "source": [
        "#1-3\n",
        "import numpy as np\n",
        "list1=[\"W\"]*35+[\"R\"]*65\n",
        "draw1=list(np.random.choice(list1,5,replace=False))\n",
        "print(\"list1：\\n\",list1)\n",
        "draw1.count(\"W\")"
      ],
      "metadata": {
        "colab": {
          "base_uri": "https://localhost:8080/"
        },
        "id": "SF2RUM9Sbgma",
        "outputId": "68c297c0-e6d2-4dc2-e4d6-14de0a13c129"
      },
      "execution_count": null,
      "outputs": [
        {
          "output_type": "stream",
          "name": "stdout",
          "text": [
            "list1：\n",
            " ['W', 'W', 'W', 'W', 'W', 'W', 'W', 'W', 'W', 'W', 'W', 'W', 'W', 'W', 'W', 'W', 'W', 'W', 'W', 'W', 'W', 'W', 'W', 'W', 'W', 'W', 'W', 'W', 'W', 'W', 'W', 'W', 'W', 'W', 'W', 'R', 'R', 'R', 'R', 'R', 'R', 'R', 'R', 'R', 'R', 'R', 'R', 'R', 'R', 'R', 'R', 'R', 'R', 'R', 'R', 'R', 'R', 'R', 'R', 'R', 'R', 'R', 'R', 'R', 'R', 'R', 'R', 'R', 'R', 'R', 'R', 'R', 'R', 'R', 'R', 'R', 'R', 'R', 'R', 'R', 'R', 'R', 'R', 'R', 'R', 'R', 'R', 'R', 'R', 'R', 'R', 'R', 'R', 'R', 'R', 'R', 'R', 'R', 'R', 'R']\n"
          ]
        },
        {
          "output_type": "execute_result",
          "data": {
            "text/plain": [
              "4"
            ]
          },
          "metadata": {},
          "execution_count": 3
        }
      ]
    },
    {
      "cell_type": "code",
      "source": [
        "#1-4\n",
        "import matplotlib.pyplot as plt\n",
        "name=[\"W\",\"R\"]\n",
        "a=draw.count(\"W\")\n",
        "b=draw.count(\"R\")\n",
        "va=[a,b]\n",
        "plt.bar(name,va)"
      ],
      "metadata": {
        "colab": {
          "base_uri": "https://localhost:8080/",
          "height": 447
        },
        "id": "C6uOENU8btZx",
        "outputId": "7591649d-52e0-4ec0-d8dd-b15f8e795aec"
      },
      "execution_count": null,
      "outputs": [
        {
          "output_type": "execute_result",
          "data": {
            "text/plain": [
              "<BarContainer object of 2 artists>"
            ]
          },
          "metadata": {},
          "execution_count": 4
        },
        {
          "output_type": "display_data",
          "data": {
            "text/plain": [
              "<Figure size 640x480 with 1 Axes>"
            ],
            "image/png": "[encoded data removed]"
          },
          "metadata": {}
        }
      ]
    },
    {
      "cell_type": "code",
      "source": [
        "#2-1\n",
        "X=np.arange(1,50)\n",
        "choice1=np.random.choice(X,6,replace=False)\n",
        "choice1.sort()\n",
        "print(choice1)"
      ],
      "metadata": {
        "colab": {
          "base_uri": "https://localhost:8080/"
        },
        "id": "QafKEhsibvml",
        "outputId": "96e710cf-7af7-4070-eace-2378e841554e"
      },
      "execution_count": null,
      "outputs": [
        {
          "output_type": "stream",
          "name": "stdout",
          "text": [
            "[ 7 10 14 25 27 38]\n"
          ]
        }
      ]
    },
    {
      "cell_type": "code",
      "source": [
        "4#2-2\n",
        "prize=[7, 29, 34, 41, 43, 49]\n",
        "special_number=22\n",
        "Number1 =[input(\"請輸入第1碼：\"),input(\"請輸入第2碼：\"),input(\"請輸入第3碼：\"),input(\"請輸入第4碼：\"),input(\"請輸入第5碼：\"),input(\"請輸入第6碼：\")]\n",
        "Number2=input(\"請輸入特別號：\")"
      ],
      "metadata": {
        "id": "3bIjLNmNbvvh",
        "colab": {
          "base_uri": "https://localhost:8080/"
        },
        "outputId": "7e7fc0ca-d279-4781-ed60-937d4d546217"
      },
      "execution_count": null,
      "outputs": [
        {
          "name": "stdout",
          "output_type": "stream",
          "text": [
            "請輸入第1碼：7\n",
            "請輸入第2碼：26\n",
            "請輸入第3碼：34\n",
            "請輸入第4碼：41\n",
            "請輸入第5碼：43\n",
            "請輸入第6碼：45\n",
            "請輸入特別號：22\n"
          ]
        }
      ]
    },
    {
      "cell_type": "code",
      "source": [
        "#2-3\n",
        "a1=np.intersect1d(Number1,prize)\n",
        "a2=np.intersect1d(Number2,special_number)\n",
        "if len(a1)==6:\n",
        "  print(\"恭喜中頭獎\")\n",
        "elif len(a1)==5:\n",
        "  if len(a2)==1:\n",
        "    print(\"恭喜中貳獎\")\n",
        "  else:\n",
        "    print(\"恭喜中參獎\")\n",
        "elif len(a1)==4:\n",
        "  if len(a2)==1:\n",
        "    print(\"恭喜中肆獎\")\n",
        "  else:\n",
        "    print(\"恭喜中伍獎\")\n",
        "elif len(a1)==3:\n",
        "  if len(a2)==1:\n",
        "    print(\"恭喜中陸獎\")\n",
        "  else:\n",
        "    print(\"可惜沒中獎\")\n",
        "else:\n",
        "  print(\"可惜沒中獎\")"
      ],
      "metadata": {
        "colab": {
          "base_uri": "https://localhost:8080/"
        },
        "id": "Fc3PeKmFb-KF",
        "outputId": "3d33b73a-bca0-400c-8da5-add1e02abdd2"
      },
      "execution_count": null,
      "outputs": [
        {
          "output_type": "stream",
          "name": "stdout",
          "text": [
            "恭喜中肆獎\n"
          ]
        }
      ]
    },
    {
      "cell_type": "code",
      "source": [
        "#3\n",
        "num1=np.arange(1,25001,50)\n",
        "print(len(num1))\n",
        "print(\"num1\",num1)\n",
        "print(\"總和：\",np.sum(num1))"
      ],
      "metadata": {
        "colab": {
          "base_uri": "https://localhost:8080/"
        },
        "id": "Dp2-tfO1cC5m",
        "outputId": "300c2bf2-24c3-451b-b453-8e218e5e5ad7"
      },
      "execution_count": null,
      "outputs": [
        {
          "output_type": "stream",
          "name": "stdout",
          "text": [
            "500\n",
            "num1 [    1    51   101   151   201   251   301   351   401   451   501   551\n",
            "   601   651   701   751   801   851   901   951  1001  1051  1101  1151\n",
            "  1201  1251  1301  1351  1401  1451  1501  1551  1601  1651  1701  1751\n",
            "  1801  1851  1901  1951  2001  2051  2101  2151  2201  2251  2301  2351\n",
            "  2401  2451  2501  2551  2601  2651  2701  2751  2801  2851  2901  2951\n",
            "  3001  3051  3101  3151  3201  3251  3301  3351  3401  3451  3501  3551\n",
            "  3601  3651  3701  3751  3801  3851  3901  3951  4001  4051  4101  4151\n",
            "  4201  4251  4301  4351  4401  4451  4501  4551  4601  4651  4701  4751\n",
            "  4801  4851  4901  4951  5001  5051  5101  5151  5201  5251  5301  5351\n",
            "  5401  5451  5501  5551  5601  5651  5701  5751  5801  5851  5901  5951\n",
            "  6001  6051  6101  6151  6201  6251  6301  6351  6401  6451  6501  6551\n",
            "  6601  6651  6701  6751  6801  6851  6901  6951  7001  7051  7101  7151\n",
            "  7201  7251  7301  7351  7401  7451  7501  7551  7601  7651  7701  7751\n",
            "  7801  7851  7901  7951  8001  8051  8101  8151  8201  8251  8301  8351\n",
            "  8401  8451  8501  8551  8601  8651  8701  8751  8801  8851  8901  8951\n",
            "  9001  9051  9101  9151  9201  9251  9301  9351  9401  9451  9501  9551\n",
            "  9601  9651  9701  9751  9801  9851  9901  9951 10001 10051 10101 10151\n",
            " 10201 10251 10301 10351 10401 10451 10501 10551 10601 10651 10701 10751\n",
            " 10801 10851 10901 10951 11001 11051 11101 11151 11201 11251 11301 11351\n",
            " 11401 11451 11501 11551 11601 11651 11701 11751 11801 11851 11901 11951\n",
            " 12001 12051 12101 12151 12201 12251 12301 12351 12401 12451 12501 12551\n",
            " 12601 12651 12701 12751 12801 12851 12901 12951 13001 13051 13101 13151\n",
            " 13201 13251 13301 13351 13401 13451 13501 13551 13601 13651 13701 13751\n",
            " 13801 13851 13901 13951 14001 14051 14101 14151 14201 14251 14301 14351\n",
            " 14401 14451 14501 14551 14601 14651 14701 14751 14801 14851 14901 14951\n",
            " 15001 15051 15101 15151 15201 15251 15301 15351 15401 15451 15501 15551\n",
            " 15601 15651 15701 15751 15801 15851 15901 15951 16001 16051 16101 16151\n",
            " 16201 16251 16301 16351 16401 16451 16501 16551 16601 16651 16701 16751\n",
            " 16801 16851 16901 16951 17001 17051 17101 17151 17201 17251 17301 17351\n",
            " 17401 17451 17501 17551 17601 17651 17701 17751 17801 17851 17901 17951\n",
            " 18001 18051 18101 18151 18201 18251 18301 18351 18401 18451 18501 18551\n",
            " 18601 18651 18701 18751 18801 18851 18901 18951 19001 19051 19101 19151\n",
            " 19201 19251 19301 19351 19401 19451 19501 19551 19601 19651 19701 19751\n",
            " 19801 19851 19901 19951 20001 20051 20101 20151 20201 20251 20301 20351\n",
            " 20401 20451 20501 20551 20601 20651 20701 20751 20801 20851 20901 20951\n",
            " 21001 21051 21101 21151 21201 21251 21301 21351 21401 21451 21501 21551\n",
            " 21601 21651 21701 21751 21801 21851 21901 21951 22001 22051 22101 22151\n",
            " 22201 22251 22301 22351 22401 22451 22501 22551 22601 22651 22701 22751\n",
            " 22801 22851 22901 22951 23001 23051 23101 23151 23201 23251 23301 23351\n",
            " 23401 23451 23501 23551 23601 23651 23701 23751 23801 23851 23901 23951\n",
            " 24001 24051 24101 24151 24201 24251 24301 24351 24401 24451 24501 24551\n",
            " 24601 24651 24701 24751 24801 24851 24901 24951]\n",
            "總和： 6238000\n"
          ]
        }
      ]
    },
    {
      "cell_type": "code",
      "source": [
        "#4-1\n",
        "import numpy as np\n",
        "list7=np.random.randint(0,100,60)\n",
        "print(list7)\n",
        "score=list(range(1,100+1))"
      ],
      "metadata": {
        "id": "OSLfdT8rcKnu",
        "colab": {
          "base_uri": "https://localhost:8080/"
        },
        "outputId": "ac27e15a-3692-4ab6-9e8e-a4e54f2313ce"
      },
      "execution_count": null,
      "outputs": [
        {
          "output_type": "stream",
          "name": "stdout",
          "text": [
            "[81 21 53 83 53 80 76 76 64  2 69 98 56 37 93 91 36  7 49 56 59 15 45 44\n",
            " 57 97  2 83 32 50 38 77  7 26  6 85 76 47 96 25 92 26 40  5 44 77 52 79\n",
            "  7 38 12 11  8 51 37 14 94  6 95 57]\n"
          ]
        }
      ]
    },
    {
      "cell_type": "code",
      "source": [
        "#4-2\n",
        "print(\"取平均數:\",np.mean(list7))"
      ],
      "metadata": {
        "colab": {
          "base_uri": "https://localhost:8080/"
        },
        "id": "BCO4kXJjcQv2",
        "outputId": "c9710efe-ddae-4da8-c035-5d1e1f695a9f"
      },
      "execution_count": null,
      "outputs": [
        {
          "output_type": "stream",
          "name": "stdout",
          "text": [
            "取平均數: 49.88333333333333\n"
          ]
        }
      ]
    },
    {
      "cell_type": "code",
      "source": [
        "#4-3\n",
        "import pandas as pd\n",
        "score_data = pd.DataFrame({'score': list(range(0, 101))})\n",
        "exam_data = pd.DataFrame({'list7': list7})\n",
        "merged_data = pd.concat([score_data, exam_data], axis=1)\n",
        "plt.hist(merged_data['list7'], bins=5, edgecolor='black')\n",
        "plt.title('Exam Scores')\n",
        "plt.xlabel('Exam Score')\n",
        "plt.ylabel('Frequency')\n",
        "plt.show()"
      ],
      "metadata": {
        "colab": {
          "base_uri": "https://localhost:8080/",
          "height": 472
        },
        "id": "AI1fwyxeKvEK",
        "outputId": "d1da9310-c44a-4509-f672-5eeb847678bc"
      },
      "execution_count": null,
      "outputs": [
        {
          "output_type": "display_data",
          "data": {
            "text/plain": [
              "<Figure size 640x480 with 1 Axes>"
            ],
            "image/png": "[encoded data removed]"
          },
          "metadata": {}
        }
      ]
    },
    {
      "cell_type": "code",
      "source": [
        "#4-3\n",
        "plt.stem(list7//10,list7-list7//10*10,orientation=\"horizontal\")"
      ],
      "metadata": {
        "id": "EK7kulgJe4Kg",
        "colab": {
          "base_uri": "https://localhost:8080/",
          "height": 447
        },
        "outputId": "15b27f34-8cc8-4a84-a765-891057952c22"
      },
      "execution_count": null,
      "outputs": [
        {
          "output_type": "execute_result",
          "data": {
            "text/plain": [
              "<StemContainer object of 3 artists>"
            ]
          },
          "metadata": {},
          "execution_count": 88
        },
        {
          "output_type": "display_data",
          "data": {
            "text/plain": [
              "<Figure size 640x480 with 1 Axes>"
            ],
            "image/png": "[encoded data removed]"
          },
          "metadata": {}
        }
      ]
    },
    {
      "cell_type": "code",
      "source": [
        "#5-1\n",
        "setA={\"甲出石頭,乙出剪刀\",\"甲出石頭,乙出布\",\"甲出石頭,乙出石頭\"}\n",
        "setB={\"甲出石頭,乙出剪刀\",\"甲出布,乙出石頭\",\"甲出剪刀,乙出布\"}"
      ],
      "metadata": {
        "id": "PgD7mAKAcUSi"
      },
      "execution_count": null,
      "outputs": []
    },
    {
      "cell_type": "code",
      "source": [
        "#5-2\n",
        "print(setA.intersection(setB))"
      ],
      "metadata": {
        "colab": {
          "base_uri": "https://localhost:8080/"
        },
        "id": "yjxSnO_2cXHO",
        "outputId": "31af4947-62b2-4bb1-d18d-2a269b00cb8b"
      },
      "execution_count": null,
      "outputs": [
        {
          "output_type": "stream",
          "name": "stdout",
          "text": [
            "{'甲出石頭,乙出剪刀'}\n"
          ]
        }
      ]
    },
    {
      "cell_type": "code",
      "source": [
        "#5-3\n",
        "print(setA.union(setB))"
      ],
      "metadata": {
        "colab": {
          "base_uri": "https://localhost:8080/"
        },
        "id": "jt3Z3ESAcbbU",
        "outputId": "7f6c6a6e-059a-4b8c-c6c4-3d5b6bf03157"
      },
      "execution_count": null,
      "outputs": [
        {
          "output_type": "stream",
          "name": "stdout",
          "text": [
            "{'甲出剪刀,乙出布', '甲出布,乙出石頭', '甲出石頭,乙出布', '甲出石頭,乙出石頭', '甲出石頭,乙出剪刀'}\n"
          ]
        }
      ]
    }
  ]
}